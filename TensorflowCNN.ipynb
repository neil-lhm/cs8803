{
 "cells": [
  {
   "cell_type": "code",
   "execution_count": 1,
   "metadata": {
    "collapsed": true
   },
   "outputs": [],
   "source": [
    "import tensorflow as tf\n",
    "import numpy as np\n",
    "import cv2"
   ]
  },
  {
   "cell_type": "code",
   "execution_count": 2,
   "metadata": {
    "collapsed": true
   },
   "outputs": [],
   "source": [
    "import glob\n",
    "import os"
   ]
  },
  {
   "cell_type": "code",
   "execution_count": 3,
   "metadata": {
    "collapsed": true
   },
   "outputs": [],
   "source": [
    "def loadImages(trainPath, imageSize, classes = [\"dogs\", \"cats\"]):\n",
    "    \"\"\"Load images the path to the folder that contains\n",
    "    the images. Return images, its labels and the name of images.\n",
    "    \n",
    "    trainPath: path to folder that contains images to train\n",
    "    imageSize: the size used in cv2.resize()\n",
    "    classes: types of images to train for\n",
    "    \"\"\"\n",
    "    images = []\n",
    "    labels = []\n",
    "    imageNames = []\n",
    "\n",
    "    for className in classes:   \n",
    "        index = classes.index(className)\n",
    "        path = os.path.join(trainPath, className, '*g')\n",
    "        files = glob.glob(path)\n",
    "        for fl in files:\n",
    "            image = cv2.imread(fl)\n",
    "            image = cv2.resize(image, (imageSize, imageSize),0,0, cv2.INTER_LINEAR)\n",
    "            image = image.astype(np.float32)\n",
    "            image = np.multiply(image, 1.0 / 255.0)\n",
    "            images.append(image)\n",
    "            label = np.zeros(len(classes))\n",
    "            label[index] = 1.0\n",
    "            labels.append(label)\n",
    "            imageNames.append(fl)\n",
    "\n",
    "    images = np.array(images)\n",
    "    labels = np.array(labels)\n",
    "\n",
    "    return images, labels, imageNames"
   ]
  },
  {
   "cell_type": "code",
   "execution_count": 4,
   "metadata": {
    "collapsed": true
   },
   "outputs": [],
   "source": [
    "np.random.seed(1)\n",
    "tf.set_random_seed(1)"
   ]
  },
  {
   "cell_type": "code",
   "execution_count": 5,
   "metadata": {
    "collapsed": true
   },
   "outputs": [],
   "source": [
    "trainPath = \"train\"\n",
    "imageSize = 64\n",
    "images, labels, imageNames = loadImages(trainPath, imageSize)"
   ]
  },
  {
   "cell_type": "code",
   "execution_count": 6,
   "metadata": {
    "collapsed": true
   },
   "outputs": [],
   "source": [
    "classes = [\"dogs\", \"cats\"]\n",
    "numOfChannels = 3\n",
    "session = tf.Session()\n",
    "x = tf.placeholder(tf.float32, shape=[None, imageSize,imageSize,numOfChannels], name='x')\n",
    "trueY = tf.placeholder(tf.float32, shape=[None, len(classes)], name='trueY')"
   ]
  },
  {
   "cell_type": "code",
   "execution_count": 7,
   "metadata": {
    "collapsed": true
   },
   "outputs": [],
   "source": [
    "def create_weights(shape):\n",
    "    return tf.Variable(tf.truncated_normal(shape, stddev=0.05))\n",
    "\n",
    "def create_biases(size):\n",
    "    return tf.Variable(tf.constant(0.05, shape=[size]))"
   ]
  },
  {
   "cell_type": "code",
   "execution_count": 8,
   "metadata": {
    "collapsed": true
   },
   "outputs": [],
   "source": [
    "def create_convolutional_layer(input, numOfChannels, sizeOfFilter, numOfFilters):\n",
    "    \"\"\"Returns a constructed convolutional layer.\n",
    "    \n",
    "    numOfChannels: number of channels. For RGB it's 3.\n",
    "    sizeOfFilter: size of filter used in convolutional layer.\n",
    "    numOfFilters: number of filters (feature maps used in the convolutional lyaer)\n",
    "    \"\"\"\n",
    "    # randomly initialize weights and bias to train for this layer\n",
    "    weights = create_weights(shape=[sizeOfFilter, sizeOfFilter, numOfChannels, numOfFilters])\n",
    "    biases = create_biases(numOfFilters)\n",
    "    ## Creating the convolutional layer\n",
    "    layer = tf.nn.conv2d(input=input,\n",
    "                     filter=weights,\n",
    "                     strides=[1, 1, 1, 1],\n",
    "                     padding='SAME')\n",
    "\n",
    "    layer += biases\n",
    "    # max-pooling.  \n",
    "    layer = tf.nn.max_pool(value=layer,\n",
    "                            ksize=[1, 2, 2, 1],\n",
    "                            strides=[1, 2, 2, 1],\n",
    "                            padding='SAME')\n",
    "    # activating with relu\n",
    "    layer = tf.nn.relu(layer)\n",
    "\n",
    "    return layer"
   ]
  },
  {
   "cell_type": "code",
   "execution_count": 9,
   "metadata": {
    "collapsed": true
   },
   "outputs": [],
   "source": [
    "def create_flatten_layer(layer):\n",
    "    layer_shape = layer.get_shape()\n",
    "    num_features = layer_shape[1:4].num_elements()\n",
    "    layer = tf.reshape(layer, [-1, num_features])\n",
    "    return layer"
   ]
  },
  {
   "cell_type": "code",
   "execution_count": 10,
   "metadata": {
    "collapsed": true
   },
   "outputs": [],
   "source": [
    "def create_fc_layer(input, num_inputs, num_outputs, use_relu=True):\n",
    "    weights = create_weights(shape=[num_inputs, num_outputs])\n",
    "    biases = create_biases(num_outputs)\n",
    "    layer = tf.matmul(input, weights) + biases\n",
    "    if use_relu:\n",
    "        layer = tf.nn.relu(layer)\n",
    "    return layer"
   ]
  },
  {
   "cell_type": "code",
   "execution_count": 11,
   "metadata": {
    "collapsed": true
   },
   "outputs": [],
   "source": [
    "filterSize = 3\n",
    "# num of filters in convolution layer 1,2,3\n",
    "numOfLayersConv1 = 16\n",
    "numOfLayersConv2 = 16\n",
    "numOfLayersConv3 = 32\n",
    "# size of fully connected layer\n",
    "sizeOfFCLayer = 64"
   ]
  },
  {
   "cell_type": "code",
   "execution_count": 12,
   "metadata": {
    "collapsed": true
   },
   "outputs": [],
   "source": [
    "layer_conv1 = create_convolutional_layer(x,\n",
    "               numOfChannels,\n",
    "               filterSize,\n",
    "               numOfLayersConv1)\n",
    "layer_conv2 = create_convolutional_layer(layer_conv1,\n",
    "               numOfLayersConv1,\n",
    "               filterSize,\n",
    "               numOfLayersConv2)\n",
    "\n",
    "layer_conv3= create_convolutional_layer(layer_conv2,\n",
    "               numOfLayersConv2,\n",
    "               filterSize,\n",
    "               numOfLayersConv3)"
   ]
  },
  {
   "cell_type": "code",
   "execution_count": 13,
   "metadata": {
    "collapsed": true
   },
   "outputs": [],
   "source": [
    "layer_flat = create_flatten_layer(layer_conv3)"
   ]
  },
  {
   "cell_type": "code",
   "execution_count": 14,
   "metadata": {
    "collapsed": true
   },
   "outputs": [],
   "source": [
    "layer_fc1 = create_fc_layer(input=layer_flat,\n",
    "                     num_inputs=layer_flat.get_shape()[1:4].num_elements(),\n",
    "                     num_outputs=sizeOfFCLayer,\n",
    "                     use_relu=True)"
   ]
  },
  {
   "cell_type": "code",
   "execution_count": 15,
   "metadata": {
    "collapsed": true
   },
   "outputs": [],
   "source": [
    "layer_fc2 = create_fc_layer(input=layer_fc1,\n",
    "                     num_inputs=sizeOfFCLayer,\n",
    "                     num_outputs=len(classes),\n",
    "                     use_relu=False) "
   ]
  },
  {
   "cell_type": "code",
   "execution_count": 16,
   "metadata": {
    "collapsed": true
   },
   "outputs": [],
   "source": [
    "y_pred = tf.nn.softmax(layer_fc2,name='y_pred')\n",
    "session.run(tf.global_variables_initializer())\n",
    "cross_entropy = tf.nn.softmax_cross_entropy_with_logits(logits=layer_fc2,\n",
    "                                                    labels=trueY)"
   ]
  },
  {
   "cell_type": "code",
   "execution_count": 17,
   "metadata": {
    "collapsed": true
   },
   "outputs": [],
   "source": [
    "cost = tf.reduce_mean(cross_entropy)\n",
    "optimizer = tf.train.AdamOptimizer(learning_rate=1e-4).minimize(cost)"
   ]
  },
  {
   "cell_type": "code",
   "execution_count": 18,
   "metadata": {
    "collapsed": true
   },
   "outputs": [],
   "source": [
    "session.run(tf.global_variables_initializer()) "
   ]
  },
  {
   "cell_type": "code",
   "execution_count": 19,
   "metadata": {
    "collapsed": true
   },
   "outputs": [],
   "source": [
    "import time\n",
    "\n",
    "saver = tf.train.Saver()\n",
    "def train(num_iteration):\n",
    "    runtimes = np.zeros((num_iteration, 4))\n",
    "    \n",
    "    for i in range(num_iteration):\n",
    "\n",
    "        for j in range(4):   \n",
    "            feed_dict_tr = {x: images[j].reshape((1, 64, 64, 3)),\n",
    "                               trueY: labels[j].reshape((1, 2))}\n",
    "            st = time.time()\n",
    "            session.run(optimizer, feed_dict=feed_dict_tr)\n",
    "            runtimes[i, j] = time.time() - st\n",
    "        \n",
    "        saver.save(session, 'dogs-cats-model') \n",
    "    \n",
    "    with open('runtime', 'w') as f:\n",
    "        for i in range(runtimes.shape[0]):\n",
    "            f.write(\"{}\\n\".format(runtimes[i]))\n",
    "\n",
    "train(num_iteration=10)"
   ]
  },
  {
   "cell_type": "code",
   "execution_count": 20,
   "metadata": {
    "collapsed": true
   },
   "outputs": [],
   "source": [
    "testPath = \"test\"\n",
    "imageSize = 64\n",
    "images, labels, imageNames = loadImages(testPath, imageSize)"
   ]
  },
  {
   "cell_type": "code",
   "execution_count": 21,
   "metadata": {},
   "outputs": [
    {
     "name": "stdout",
     "output_type": "stream",
     "text": [
      "INFO:tensorflow:Restoring parameters from ./dogs-cats-model\n"
     ]
    }
   ],
   "source": [
    "## Let us restore the saved model \n",
    "sess = tf.Session()\n",
    "# Step-1: Recreate the network graph. At this step only graph is created.\n",
    "saver = tf.train.import_meta_graph('dogs-cats-model.meta')\n",
    "# Step-2: Now let's load the weights saved using the restore method.\n",
    "saver.restore(sess, tf.train.latest_checkpoint('./'))\n",
    "\n",
    "# Accessing the default graph which we have restored\n",
    "graph = tf.get_default_graph()\n",
    "\n",
    "# Now, let's get hold of the op that we can be processed to get the output.\n",
    "# In the original network y_pred is the tensor that is the prediction of the network\n",
    "y_pred = graph.get_tensor_by_name(\"y_pred:0\")"
   ]
  },
  {
   "cell_type": "code",
   "execution_count": 22,
   "metadata": {},
   "outputs": [
    {
     "name": "stdout",
     "output_type": "stream",
     "text": [
      "[[ 0.65159941  0.34840059]]\n"
     ]
    }
   ],
   "source": [
    "x= graph.get_tensor_by_name(\"x:0\") \n",
    "y_true = graph.get_tensor_by_name(\"trueY:0\") \n",
    "\n",
    "\n",
    "### Creating the feed_dict that is required to be fed to calculate y_pred \n",
    "feed_dict_testing = {x: images[0].reshape((1, 64, 64, 3)),\n",
    "                               trueY: labels[0].reshape((1, 2))}\n",
    "result=sess.run(y_pred, feed_dict=feed_dict_testing)\n",
    "# result is of this format [probabiliy_of_rose probability_of_sunflower]\n",
    "print(result)"
   ]
  },
  {
   "cell_type": "code",
   "execution_count": 23,
   "metadata": {},
   "outputs": [
    {
     "name": "stdout",
     "output_type": "stream",
     "text": [
      "[ 1.  0.]\n"
     ]
    }
   ],
   "source": [
    "print (labels[0])"
   ]
  },
  {
   "cell_type": "code",
   "execution_count": 24,
   "metadata": {},
   "outputs": [
    {
     "data": {
      "text/plain": [
       "'test/dogs/dog.3.jpg'"
      ]
     },
     "execution_count": 24,
     "metadata": {},
     "output_type": "execute_result"
    }
   ],
   "source": [
    "imageNames[0]"
   ]
  },
  {
   "cell_type": "code",
   "execution_count": 25,
   "metadata": {},
   "outputs": [
    {
     "data": {
      "image/jpeg": "[encoded data removed]",
      "text/plain": [
       "<IPython.core.display.Image object>"
      ]
     },
     "execution_count": 25,
     "metadata": {},
     "output_type": "execute_result"
    }
   ],
   "source": [
    "from IPython.display import Image\n",
    "Image(filename='test/dogs/dog.3.jpg') "
   ]
  },
  {
   "cell_type": "code",
   "execution_count": 26,
   "metadata": {
    "collapsed": true
   },
   "outputs": [],
   "source": [
    "import time"
   ]
  },
  {
   "cell_type": "code",
   "execution_count": 27,
   "metadata": {},
   "outputs": [
    {
     "data": {
      "text/plain": [
       "True"
      ]
     },
     "execution_count": 27,
     "metadata": {},
     "output_type": "execute_result"
    }
   ],
   "source": [
    "\"dog\" in imageNames[0]"
   ]
  },
  {
   "cell_type": "code",
   "execution_count": null,
   "metadata": {
    "collapsed": true
   },
   "outputs": [],
   "source": []
  }
 ],
 "metadata": {
  "kernelspec": {
   "display_name": "Python 3",
   "language": "python",
   "name": "python3"
  },
  "language_info": {
   "codemirror_mode": {
    "name": "ipython",
    "version": 3
   },
   "file_extension": ".py",
   "mimetype": "text/x-python",
   "name": "python",
   "nbconvert_exporter": "python",
   "pygments_lexer": "ipython3",
   "version": "3.6.1"
  }
 },
 "nbformat": 4,
 "nbformat_minor": 2
}
